{
  "nbformat": 4,
  "nbformat_minor": 0,
  "metadata": {
    "colab": {
      "provenance": [],
      "authorship_tag": "ABX9TyPAWWcGsdI7bag2QFSB8kN2",
      "include_colab_link": true
    },
    "kernelspec": {
      "name": "python3",
      "display_name": "Python 3"
    },
    "language_info": {
      "name": "python"
    }
  },
  "cells": [
    {
      "cell_type": "markdown",
      "metadata": {
        "id": "view-in-github",
        "colab_type": "text"
      },
      "source": [
        "<a href=\"https://colab.research.google.com/github/npenarandaf/MetNumUN2023I/blob/main/npenaranda_Quiz_1.ipynb\" target=\"_parent\"><img src=\"https://colab.research.google.com/assets/colab-badge.svg\" alt=\"Open In Colab\"/></a>"
      ]
    },
    {
      "cell_type": "markdown",
      "source": [
        "## **1. *FizzBuzz*  - Python**"
      ],
      "metadata": {
        "id": "pflobFqurnST"
      }
    },
    {
      "cell_type": "code",
      "execution_count": 8,
      "metadata": {
        "colab": {
          "base_uri": "https://localhost:8080/"
        },
        "id": "m-2oi0s8rdLO",
        "outputId": "2efea794-92d9-41f0-c269-72c375d6b1c6"
      },
      "outputs": [
        {
          "output_type": "stream",
          "name": "stdout",
          "text": [
            "...\n",
            "...\n",
            "Fizz!\n",
            "...\n",
            "Buzz!\n",
            "Fizz!\n",
            "...\n",
            "...\n",
            "Fizz!\n",
            "Buzz!\n",
            "...\n",
            "Fizz!\n",
            "...\n",
            "...\n",
            "FizzBuzz!\n",
            "...\n",
            "...\n",
            "Fizz!\n",
            "...\n",
            "Buzz!\n",
            "Fizz!\n",
            "...\n",
            "...\n",
            "Fizz!\n",
            "Buzz!\n",
            "...\n",
            "Fizz!\n",
            "...\n",
            "...\n"
          ]
        }
      ],
      "source": [
        "for Natalia in range (1, 30):\n",
        "  if Natalia % 5 == 0 and Natalia % 3 == 0:\n",
        "    print ('FizzBuzz!')\n",
        "  elif Natalia % 5 == 0 and not Natalia % 3 == 0:\n",
        "    print ('Buzz!')\n",
        "  elif Natalia % 3 == 0 and not Natalia % 5 == 0:\n",
        "    print ('Fizz!')\n",
        "  else:\n",
        "    print ('...')\n",
        "\n"
      ]
    },
    {
      "cell_type": "markdown",
      "source": [
        "## **2. *FizzBuzzList*  - Python**"
      ],
      "metadata": {
        "id": "10w1nD9lrqBD"
      }
    },
    {
      "cell_type": "code",
      "source": [
        "def NataliaList(x):\n",
        "  solucion = []\n",
        "  for i in range(x):\n",
        "    solucion.append(Natalia(i+1))\n",
        "  return solucion\n",
        "\n"
      ],
      "metadata": {
        "id": "H_H4Z_UdrvIX"
      },
      "execution_count": 17,
      "outputs": []
    },
    {
      "cell_type": "markdown",
      "source": [
        "## **3. *Standarize* - z scores - NumPy**"
      ],
      "metadata": {
        "id": "3Nf0Odlirvfb"
      }
    },
    {
      "cell_type": "code",
      "source": [
        "import numpy as np\n",
        "\n",
        "def standarize(N):\n",
        "  N_estandarizada = (N - N.mean())/ N.std()\n",
        "  return N_estandarizada"
      ],
      "metadata": {
        "id": "wAGco_Ltry1u"
      },
      "execution_count": 18,
      "outputs": []
    },
    {
      "cell_type": "markdown",
      "source": [
        "## **4. *Main diagonal matrix*  - NumPy**"
      ],
      "metadata": {
        "id": "IrX9Ixr2rzaW"
      }
    },
    {
      "cell_type": "code",
      "source": [
        "import numpy as np\n",
        "A = np.array([\n",
        "    [1, 5, 3, 10, -1],\n",
        "    [4, 1, 6, 3, 8],\n",
        "    [-8, 6, 5, 2, 1]\n",
        "])\n",
        "\n",
        "def main_diagonal_matrix(A):\n",
        "  B = np.diag(np.diag(A)).astype(float)\n",
        "  return B"
      ],
      "metadata": {
        "id": "V7fnSBXIr3_K"
      },
      "execution_count": 15,
      "outputs": []
    }
  ]
}