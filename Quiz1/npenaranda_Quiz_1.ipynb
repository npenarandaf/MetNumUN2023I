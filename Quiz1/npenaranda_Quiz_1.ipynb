{
  "nbformat": 4,
  "nbformat_minor": 0,
  "metadata": {
    "colab": {
      "provenance": [],
      "authorship_tag": "ABX9TyPGCXqMVyxnqWG+BD99gkL3"
    },
    "kernelspec": {
      "name": "python3",
      "display_name": "Python 3"
    },
    "language_info": {
      "name": "python"
    }
  },
  "cells": [
    {
      "cell_type": "markdown",
      "source": [
        "**Quiz 1**-Natalia Peñaranda Falla"
      ],
      "metadata": {
        "id": "Zo4ClncmEEYm"
      }
    },
    {
      "cell_type": "markdown",
      "source": [
        "## **1. *FizzBuzz*  - Python**"
      ],
      "metadata": {
        "id": "pflobFqurnST"
      }
    },
    {
      "cell_type": "code",
      "execution_count": 28,
      "metadata": {
        "id": "m-2oi0s8rdLO"
      },
      "outputs": [],
      "source": [
        "def FizzBuzz(N):\n",
        "  if N % 5 == 0 and N % 3 == 0:\n",
        "    return ('FizzBuzz!')\n",
        "  elif N % 5 == 0 and not N % 3 == 0:\n",
        "    return ('Buzz!')\n",
        "  elif N % 3 == 0 and not N % 5 == 0:\n",
        "    return ('Fizz!')\n",
        "  else:\n",
        "    return ('...')"
      ]
    },
    {
      "cell_type": "code",
      "source": [
        "print(FizzBuzz(2))\n",
        "print(FizzBuzz(5))\n",
        "print(FizzBuzz(33))\n",
        "print(FizzBuzz(25))\n",
        "print(FizzBuzz(-12))\n",
        "print(FizzBuzz(73))"
      ],
      "metadata": {
        "colab": {
          "base_uri": "https://localhost:8080/"
        },
        "id": "tKOQFWif8Dqn",
        "outputId": "da67b6bf-0a5f-402f-ab3e-9fa793213423"
      },
      "execution_count": 30,
      "outputs": [
        {
          "output_type": "stream",
          "name": "stdout",
          "text": [
            "...\n",
            "Buzz!\n",
            "Fizz!\n",
            "Buzz!\n",
            "Fizz!\n",
            "...\n"
          ]
        }
      ]
    },
    {
      "cell_type": "markdown",
      "source": [
        "## **2. *FizzBuzzList*  - Python**"
      ],
      "metadata": {
        "id": "10w1nD9lrqBD"
      }
    },
    {
      "cell_type": "code",
      "source": [
        "def FizzBuzzList(x):\n",
        "  solucion = []\n",
        "  for i in range(x):\n",
        "    solucion.append(FizzBuzz(i+1))\n",
        "  return solucion"
      ],
      "metadata": {
        "id": "H_H4Z_UdrvIX"
      },
      "execution_count": 20,
      "outputs": []
    },
    {
      "cell_type": "code",
      "source": [
        "print(FizzBuzzList(18))"
      ],
      "metadata": {
        "colab": {
          "base_uri": "https://localhost:8080/"
        },
        "id": "hZdn7-h_9rpK",
        "outputId": "2f1a2d46-3c1d-4cdd-ff60-36d7e8fc9c97"
      },
      "execution_count": 33,
      "outputs": [
        {
          "output_type": "stream",
          "name": "stdout",
          "text": [
            "['...', '...', 'Fizz!', '...', 'Buzz!', 'Fizz!', '...', '...', 'Fizz!', 'Buzz!', '...', 'Fizz!', '...', '...', 'FizzBuzz!', '...', '...', 'Fizz!']\n"
          ]
        }
      ]
    },
    {
      "cell_type": "markdown",
      "source": [
        "## **3. *Standarize* - z scores - NumPy**"
      ],
      "metadata": {
        "id": "3Nf0Odlirvfb"
      }
    },
    {
      "cell_type": "code",
      "source": [
        "import numpy as np\n",
        "\n",
        "def standarize(N):\n",
        "  N_estandarizada = (N - N.mean())/ N.std()\n",
        "  return N_estandarizada"
      ],
      "metadata": {
        "id": "wAGco_Ltry1u"
      },
      "execution_count": 35,
      "outputs": []
    },
    {
      "cell_type": "markdown",
      "source": [
        "## **4. *Main diagonal matrix*  - NumPy**"
      ],
      "metadata": {
        "id": "IrX9Ixr2rzaW"
      }
    },
    {
      "cell_type": "code",
      "source": [
        "import numpy as np\n",
        "\n",
        "def main_diagonal_matrix(O):\n",
        "  U = np.diag(np.diag(O)).astype(float)\n",
        "  return U"
      ],
      "metadata": {
        "id": "V7fnSBXIr3_K"
      },
      "execution_count": 37,
      "outputs": []
    }
  ]
}