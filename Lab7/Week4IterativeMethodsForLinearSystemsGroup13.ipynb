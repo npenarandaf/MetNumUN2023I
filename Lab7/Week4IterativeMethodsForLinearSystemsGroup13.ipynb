{
  "cells": [
    {
      "cell_type": "markdown",
      "metadata": {
        "id": "_7zSSeX21Grj"
      },
      "source": [
        "# Simple iteration for systems of linear equations"
      ]
    },
    {
      "cell_type": "markdown",
      "metadata": {
        "id": "GRz8VJ0N1Grn"
      },
      "source": [
        "First, generate a random diagonally dominant matrix, for testing."
      ]
    },
    {
      "cell_type": "code",
      "execution_count": null,
      "metadata": {
        "collapsed": true,
        "id": "jTVkb-WZ1Gro"
      },
      "outputs": [],
      "source": [
        "import numpy as np\n",
        "rndm = np.random.RandomState(1234)\n",
        "\n",
        "n = 10\n",
        "A = rndm.uniform(size=(n, n)) + np.diagflat([15]*n)\n",
        "b = rndm.uniform(size=n)"
      ]
    },
    {
      "cell_type": "code",
      "source": [
        "A"
      ],
      "metadata": {
        "id": "4mv5q-nMKZwY",
        "outputId": "1ce16e81-1ee8-41d7-fcf6-7effbe63eec4",
        "colab": {
          "base_uri": "https://localhost:8080/"
        }
      },
      "execution_count": null,
      "outputs": [
        {
          "output_type": "execute_result",
          "data": {
            "text/plain": [
              "array([[1.51915195e+01, 6.22108771e-01, 4.37727739e-01, 7.85358584e-01,\n",
              "        7.79975808e-01, 2.72592605e-01, 2.76464255e-01, 8.01872178e-01,\n",
              "        9.58139354e-01, 8.75932635e-01],\n",
              "       [3.57817270e-01, 1.55009951e+01, 6.83462935e-01, 7.12702027e-01,\n",
              "        3.70250755e-01, 5.61196186e-01, 5.03083165e-01, 1.37684496e-02,\n",
              "        7.72826622e-01, 8.82641191e-01],\n",
              "       [3.64885984e-01, 6.15396178e-01, 1.50753812e+01, 3.68824006e-01,\n",
              "        9.33140102e-01, 6.51378143e-01, 3.97202578e-01, 7.88730143e-01,\n",
              "        3.16836122e-01, 5.68098653e-01],\n",
              "       [8.69127390e-01, 4.36173424e-01, 8.02147642e-01, 1.51437668e+01,\n",
              "        7.04260971e-01, 7.04581308e-01, 2.18792106e-01, 9.24867629e-01,\n",
              "        4.42140755e-01, 9.09315959e-01],\n",
              "       [5.98092228e-02, 1.84287084e-01, 4.73552788e-02, 6.74880944e-01,\n",
              "        1.55946248e+01, 5.33310163e-01, 4.33240627e-02, 5.61433080e-01,\n",
              "        3.29668446e-01, 5.02966833e-01],\n",
              "       [1.11894318e-01, 6.07193706e-01, 5.65944643e-01, 6.76406199e-03,\n",
              "        6.17441709e-01, 1.59121229e+01, 7.90524133e-01, 9.92081466e-01,\n",
              "        9.58801762e-01, 7.91964135e-01],\n",
              "       [2.85250960e-01, 6.24916705e-01, 4.78093796e-01, 1.95675179e-01,\n",
              "        3.82317452e-01, 5.38736851e-02, 1.54516484e+01, 9.82004742e-01,\n",
              "        1.23942700e-01, 1.19380898e-01],\n",
              "       [7.38523056e-01, 5.87303633e-01, 4.71632534e-01, 1.07126817e-01,\n",
              "        2.29218565e-01, 8.99965195e-01, 4.16753538e-01, 1.55358517e+01,\n",
              "        6.20851659e-03, 3.00641706e-01],\n",
              "       [4.36893172e-01, 6.12148997e-01, 9.18198075e-01, 6.25736670e-01,\n",
              "        7.05997565e-01, 1.49833716e-01, 7.46063409e-01, 8.31006992e-01,\n",
              "        1.56337258e+01, 4.38309881e-01],\n",
              "       [1.52572775e-01, 5.68409615e-01, 5.28224278e-01, 9.51428764e-01,\n",
              "        4.80359179e-01, 5.02559563e-01, 5.36878193e-01, 8.19202067e-01,\n",
              "        5.71156381e-02, 1.56694217e+01]])"
            ]
          },
          "metadata": {},
          "execution_count": 2
        }
      ]
    },
    {
      "cell_type": "markdown",
      "metadata": {
        "id": "oNGIGBex1Grq"
      },
      "source": [
        "# I.  Jacobi iteration\n",
        "\n",
        "Given\n",
        "\n",
        "$$\n",
        "A x = b\n",
        "$$\n",
        "\n",
        "separate the diagonal part $D$,\n",
        "\n",
        "$$ A = D + (A - D) $$\n",
        "\n",
        "and write\n",
        "\n",
        "$$\n",
        "x = D^{-1} (D - A) x + D^{-1} b\\;.\n",
        "$$\n",
        "\n",
        "Then iterate\n",
        "\n",
        "$$\n",
        "x_{n + 1} = B x_{n} + c\\;,\n",
        "$$\n",
        "\n",
        "where \n",
        "\n",
        "$$\n",
        "B = D^{-1} (D - A) \\qquad \\text{and} \\qquad c = D^{-1} b\n",
        "$$\n"
      ]
    },
    {
      "cell_type": "markdown",
      "metadata": {
        "id": "rB2PHHIK1Grr"
      },
      "source": [
        "Let's construct the matrix and the r.h.s. for the Jacobi iteration"
      ]
    },
    {
      "cell_type": "code",
      "execution_count": null,
      "metadata": {
        "id": "bnk796g61Grr"
      },
      "outputs": [],
      "source": [
        "diag_1d = np.diag(A)\n",
        "\n",
        "B = -A.copy()\n",
        "np.fill_diagonal(B, 0)\n",
        "\n",
        "D = np.diag(diag_1d)\n",
        "invD = np.diag(1./diag_1d)\n",
        "BB = invD @ B \n",
        "c = invD @ b"
      ]
    },
    {
      "cell_type": "code",
      "execution_count": null,
      "metadata": {
        "id": "0NTUyC3i1Grs"
      },
      "outputs": [],
      "source": [
        "# sanity checks\n",
        "from numpy.testing import assert_allclose\n",
        "\n",
        "assert_allclose(-B + D, A)\n",
        "\n",
        "\n",
        "# xx is a \"ground truth\" solution, compute it using a direct method\n",
        "xx = np.linalg.solve(A, b)\n",
        "\n",
        "np.testing.assert_allclose(A@xx, b)\n",
        "np.testing.assert_allclose(D@xx, B@xx + b)\n",
        "np.testing.assert_allclose(xx, BB@xx + c)"
      ]
    },
    {
      "cell_type": "markdown",
      "metadata": {
        "id": "nRaVUE6U1Grt"
      },
      "source": [
        "Check that $\\| B\\| \\leqslant 1$:"
      ]
    },
    {
      "cell_type": "code",
      "execution_count": null,
      "metadata": {
        "id": "zgED2OGu1Gru",
        "outputId": "dabf2cc8-7d8a-4e12-b4e6-c6a5f9c2757b",
        "colab": {
          "base_uri": "https://localhost:8080/"
        }
      },
      "outputs": [
        {
          "output_type": "execute_result",
          "data": {
            "text/plain": [
              "0.36436161983015336"
            ]
          },
          "metadata": {},
          "execution_count": 5
        }
      ],
      "source": [
        "np.linalg.norm(BB)"
      ]
    },
    {
      "cell_type": "markdown",
      "metadata": {
        "id": "rlBcusqg1Grv"
      },
      "source": [
        "### Do the Jacobi iteration"
      ]
    },
    {
      "cell_type": "code",
      "execution_count": null,
      "metadata": {
        "collapsed": true,
        "id": "NK6iwDtm1Grv"
      },
      "outputs": [],
      "source": [
        "n_iter = 50\n",
        "\n",
        "x0 = np.ones(n)\n",
        "x = x0\n",
        "for _ in range(n_iter):\n",
        "    x = BB @ x + c"
      ]
    },
    {
      "cell_type": "code",
      "execution_count": null,
      "metadata": {
        "id": "gsLyio7W1Grw",
        "outputId": "5c250aea-cf20-4f88-f4a3-ca9db341df2a",
        "colab": {
          "base_uri": "https://localhost:8080/"
        }
      },
      "outputs": [
        {
          "output_type": "execute_result",
          "data": {
            "text/plain": [
              "array([ 1.11022302e-16,  0.00000000e+00, -2.22044605e-16, -1.11022302e-16,\n",
              "        1.11022302e-16,  0.00000000e+00, -2.42861287e-17,  0.00000000e+00,\n",
              "       -2.77555756e-17,  1.11022302e-16])"
            ]
          },
          "metadata": {},
          "execution_count": 7
        }
      ],
      "source": [
        "# Check the result:\n",
        "\n",
        "A @ x - b"
      ]
    },
    {
      "cell_type": "markdown",
      "metadata": {
        "id": "MXfb9BuT1Grw"
      },
      "source": [
        "### Task I.1\n",
        "\n",
        "Collect the proof-of-concept above into a single function implementing the Jacobi iteration. This function should receive the r.h.s. matrix $A$, the l.h.s. vector `b`, and the number of iterations to perform.\n",
        "\n",
        "\n",
        "The matrix $A$ in the illustration above is strongly diagonally dominant, by construction. \n",
        "What happens if the diagonal matrix elements of $A$ are made smaller? Check the convergence of the Jacobi iteration, and check the value of the norm of $B$.\n",
        "\n",
        "(20% of the total grade)\n"
      ]
    },
    {
      "cell_type": "code",
      "execution_count": null,
      "metadata": {
        "collapsed": true,
        "id": "5zqTUVVa1Grw"
      },
      "outputs": [],
      "source": [
        "def jacobi(A, b, n_iter):\n",
        "  diag_1d = np.diag(A)\n",
        "  B = -A.copy()\n",
        "  np.fill_diagonal(B, 0)\n",
        "  D = np.diag(diag_1d)\n",
        "  invD = np.diag(1./diag_1d)\n",
        "  BB = invD @ B \n",
        "  c = invD @ b\n",
        "  x0 = np.ones(n)\n",
        "  x = x0\n",
        "  for _ in range(n_iter):\n",
        "    x = BB @ x + c\n",
        "  print(\"Norm of B:\",np.linalg.norm(BB))\n",
        "  return x"
      ]
    },
    {
      "cell_type": "code",
      "source": [
        "n_iter=50\n",
        "x = jacobi(A, b,n_iter)\n",
        "print(x)\n",
        "\n",
        "np.testing.assert_allclose(A@x, b)\n",
        "np.testing.assert_allclose(x, xx)"
      ],
      "metadata": {
        "colab": {
          "base_uri": "https://localhost:8080/"
        },
        "id": "MfiXHCelPvFa",
        "outputId": "feb06b25-5688-4deb-c352-22ba06713d8b"
      },
      "execution_count": null,
      "outputs": [
        {
          "output_type": "stream",
          "name": "stdout",
          "text": [
            "Norm of B: 0.36436161983015336\n",
            "[ 0.03919429  0.03780037  0.04283232  0.02365951  0.05745031 -0.00030244\n",
            " -0.00577279  0.03177549 -0.00422849  0.05284648]\n"
          ]
        }
      ]
    },
    {
      "cell_type": "markdown",
      "source": [
        "### What happens if the diagonal elements of A were smaller?"
      ],
      "metadata": {
        "id": "e6cwu349Qh7j"
      }
    },
    {
      "cell_type": "code",
      "source": [
        "rndm = np.random.RandomState(1234)\n",
        "n = 10\n",
        "for i in range(10,0,-1):\n",
        "  A = rndm.uniform(size=(n, n)) + np.diagflat([i]*n)\n",
        "  b = rndm.uniform(size=n)\n",
        "  x=jacobi(A,b,n_iter)\n",
        "  print(\"Convergence:\\n\",A@x-b,\"\\n\\n\")"
      ],
      "metadata": {
        "colab": {
          "base_uri": "https://localhost:8080/"
        },
        "id": "-dv9bFIuQvZk",
        "outputId": "5cf5e3ed-66e7-4134-e0c4-85ae4e8a29e8"
      },
      "execution_count": null,
      "outputs": [
        {
          "output_type": "stream",
          "name": "stdout",
          "text": [
            "Norm of B: 0.5388887887486234\n",
            "Convergence:\n",
            " [0.00000000e+00 0.00000000e+00 1.11022302e-16 1.11022302e-16\n",
            " 0.00000000e+00 5.55111512e-17 3.81639165e-17 1.11022302e-16\n",
            " 5.55111512e-17 0.00000000e+00] \n",
            "\n",
            "\n",
            "Norm of B: 0.5976303078076515\n",
            "Convergence:\n",
            " [2.76167977e-15 2.10942375e-15 2.10942375e-15 2.10942375e-15\n",
            " 3.33066907e-15 3.66373598e-15 2.99760217e-15 2.33146835e-15\n",
            " 2.22044605e-15 3.10862447e-15] \n",
            "\n",
            "\n",
            "Norm of B: 0.6105347157974735\n",
            "Convergence:\n",
            " [1.47659662e-14 1.90958360e-14 1.04360964e-14 1.92068583e-14\n",
            " 2.16493490e-14 1.52100554e-14 1.50990331e-14 1.97342143e-14\n",
            " 1.63757896e-14 1.43357548e-14] \n",
            "\n",
            "\n",
            "Norm of B: 0.8175632200040883\n",
            "Convergence:\n",
            " [7.20216191e-08 6.52711910e-08 7.90350859e-08 6.87843351e-08\n",
            " 6.45559779e-08 6.61882123e-08 6.62691958e-08 6.53249093e-08\n",
            " 8.06978616e-08 7.86017768e-08] \n",
            "\n",
            "\n",
            "Norm of B: 0.8027935795980838\n",
            "Convergence:\n",
            " [3.92826872e-09 5.48601087e-09 4.13041590e-09 3.51212798e-09\n",
            " 4.74419221e-09 4.60755495e-09 4.86854779e-09 2.98138356e-09\n",
            " 5.63267100e-09 5.06950781e-09] \n",
            "\n",
            "\n",
            "Norm of B: 0.9956964569547841\n",
            "Convergence:\n",
            " [1.09075263e-04 7.58526322e-05 8.92958627e-05 9.06847273e-05\n",
            " 1.08869808e-04 7.59651481e-05 1.08392082e-04 1.00547428e-04\n",
            " 8.13783657e-05 9.22264295e-05] \n",
            "\n",
            "\n",
            "Norm of B: 1.2711489621542391\n",
            "Convergence:\n",
            " [31.52982336 34.99795087 34.30241989 24.01870379 44.29159195 40.45659707\n",
            " 43.62301708 42.34125137 42.87362629 41.5064262 ] \n",
            "\n",
            "\n",
            "Norm of B: 1.4913028294998587\n",
            "Convergence:\n",
            " [ 90130.64953601 109254.56225799  96522.02106302  75536.27898979\n",
            "  90943.34321677  74984.09310421  59315.27809215  83885.63632377\n",
            "  99660.62526756 109359.31877693] \n",
            "\n",
            "\n",
            "Norm of B: 2.2153142926337006\n",
            "Convergence:\n",
            " [9.13028100e+13 1.02817242e+14 9.03406048e+13 9.64097726e+13\n",
            " 9.00339812e+13 5.06203143e+13 8.96892355e+13 8.42745819e+13\n",
            " 8.63384248e+13 7.64168824e+13] \n",
            "\n",
            "\n",
            "Norm of B: 3.954664825243944\n",
            "Convergence:\n",
            " [1.36309415e+25 1.50822714e+25 1.04299033e+25 1.69642371e+25\n",
            " 1.23812470e+25 1.76345976e+25 1.68187103e+25 1.66587992e+25\n",
            " 1.17991826e+25 1.64224180e+25] \n",
            "\n",
            "\n"
          ]
        }
      ]
    },
    {
      "cell_type": "markdown",
      "source": [
        "**We can see that, for matrices with smaller values of D (diag(A)), the norm of B is higher and there's less convergence, meaning that we would need a higher number of iterations.**"
      ],
      "metadata": {
        "id": "KgrwGY_ySQYK"
      }
    },
    {
      "cell_type": "markdown",
      "metadata": {
        "id": "xBnguRFT1Grx"
      },
      "source": [
        "# II. Seidel's iteration."
      ]
    },
    {
      "cell_type": "markdown",
      "metadata": {
        "id": "rSbuFdYU1Grx"
      },
      "source": [
        "##### Task II.1\n",
        "\n",
        "Implement the Seidel's iteration. \n",
        "\n",
        "Test it on a random matrix. Study the convergence of iterations, relate to the norm of the iteration matrix.\n",
        "\n",
        "(30% of the total grade)"
      ]
    },
    {
      "cell_type": "code",
      "execution_count": null,
      "metadata": {
        "collapsed": true,
        "id": "FYygs3Ml1Grx"
      },
      "outputs": [],
      "source": [
        "def seidel(A,b,tolerance,max_iterations):\n",
        "  x=np.zeros_like(b, dtype=np.double)\n",
        "  print(\"Norm of A:\",np.linalg.norm(A))\n",
        "  #Iterate\n",
        "  for k in range(max_iterations):\n",
        "    x_old=x.copy()\n",
        "\n",
        "    #Loop over rows\n",
        "    for i in range (A.shape[0]):\n",
        "      x[i]=(b[i]-np.dot(A[i,:i], x[:i])-np.dot(A[i,(i+1):],x_old[(i+1):]))/A[i,i]\n",
        "\n",
        "    #Stop condition\n",
        "    if np.linalg.norm(x-x_old,ord=np.inf)/np.linalg.norm(x,ord=np.inf) <= tolerance:\n",
        "      break\n",
        "    return x\n"
      ]
    },
    {
      "cell_type": "code",
      "source": [
        "max_iterations=10000\n",
        "tolerance=1e-16\n",
        "n = 10\n",
        "\n",
        "A = rndm.uniform(size=(n, n)) + np.diagflat([15]*n)\n",
        "b = rndm.uniform(size=n)\n",
        "\n",
        "x = seidel(A,b,tolerance,max_iterations)\n",
        "print(x)\n",
        "print(\"Convergence:\\n\",A@x-b,\"\\n\\n\")\n"
      ],
      "metadata": {
        "colab": {
          "base_uri": "https://localhost:8080/"
        },
        "id": "moD6dM5kUgJx",
        "outputId": "2c2cc185-872d-4231-ef04-b3146e69d46f"
      },
      "execution_count": null,
      "outputs": [
        {
          "output_type": "stream",
          "name": "stdout",
          "text": [
            "Norm of A: 49.307661452451555\n",
            "[0.0102176  0.06129089 0.04342757 0.05957914 0.00609808 0.04610898\n",
            " 0.04862146 0.01027937 0.00352014 0.01049445]\n",
            "Convergence:\n",
            " [0.13352649 0.08153478 0.12907675 0.05645164 0.05005403 0.01575324\n",
            " 0.01366717 0.00194138 0.00324061 0.        ] \n",
            "\n",
            "\n"
          ]
        }
      ]
    },
    {
      "cell_type": "code",
      "source": [
        "n = 10\n",
        "max_iterations=10000\n",
        "tolerance=1e-16\n",
        "for i in range(10,0,-1):\n",
        "  A = rndm.uniform(size=(n, n)) + np.diagflat([i]*n)\n",
        "  b = rndm.uniform(size=n)\n",
        "  x = seidel(A,b,tolerance,max_iterations)\n",
        "  print(\"Convergence:\\n\",A@x-b,\"\\n\\n\")"
      ],
      "metadata": {
        "colab": {
          "base_uri": "https://localhost:8080/"
        },
        "id": "lGed-hXNXhsh",
        "outputId": "356432f6-e24e-4193-953e-3e65fa1ab668"
      },
      "execution_count": null,
      "outputs": [
        {
          "output_type": "stream",
          "name": "stdout",
          "text": [
            "Norm of A: 33.45255896450867\n",
            "Convergence:\n",
            " [ 0.21538583  0.18047791  0.10706228  0.04134411  0.05695759  0.01263516\n",
            "  0.03602039  0.02091509 -0.00278143  0.        ] \n",
            "\n",
            "\n",
            "Norm of A: 30.712695413289794\n",
            "Convergence:\n",
            " [ 6.89833245e-02  2.48702411e-01  1.18936196e-01  1.27363865e-01\n",
            "  1.20763054e-01  3.43904179e-02  4.46915527e-03 -2.74676619e-03\n",
            "  6.27005739e-02  1.11022302e-16] \n",
            "\n",
            "\n",
            "Norm of A: 27.22381308661258\n",
            "Convergence:\n",
            " [ 2.05719368e-01  2.06837931e-01  1.68398048e-01  1.41000854e-01\n",
            "  1.13479409e-01  6.99305697e-02  1.10861807e-01  2.08200377e-02\n",
            "  8.69393113e-03 -2.77555756e-17] \n",
            "\n",
            "\n",
            "Norm of A: 24.338023833105698\n",
            "Convergence:\n",
            " [0.36910393 0.11759764 0.140503   0.2936767  0.10179393 0.05823808\n",
            " 0.05438756 0.0457473  0.08545626 0.        ] \n",
            "\n",
            "\n",
            "Norm of A: 21.61812818384426\n",
            "Convergence:\n",
            " [0.25917831 0.22768759 0.26348329 0.10466201 0.09185164 0.05579758\n",
            " 0.00652468 0.01900446 0.03260943 0.        ] \n",
            "\n",
            "\n",
            "Norm of A: 18.373345030659866\n",
            "Convergence:\n",
            " [ 4.22051068e-01  3.28514662e-01  3.00374806e-01  2.67678732e-01\n",
            "  1.54124068e-01  3.07387624e-01  2.59061764e-01  1.15569924e-01\n",
            "  8.39257239e-02 -1.11022302e-16] \n",
            "\n",
            "\n",
            "Norm of A: 14.97152385247943\n",
            "Convergence:\n",
            " [ 3.00491625e-01  1.74018656e-01  1.80840211e-01  5.63500700e-02\n",
            "  7.16893044e-02  4.18851579e-02 -2.73676080e-02 -6.41150047e-02\n",
            " -9.27102223e-02  1.11022302e-16] \n",
            "\n",
            "\n",
            "Norm of A: 12.331580126755181\n",
            "Convergence:\n",
            " [ 0.53003714  0.34733891  0.21157571  0.10104718  0.18559226 -0.01783588\n",
            "  0.02221656  0.0007281  -0.00213722  0.        ] \n",
            "\n",
            "\n",
            "Norm of A: 9.773038934917457\n",
            "Convergence:\n",
            " [ 2.63042554e-01  4.42236708e-01  2.26281402e-01 -3.83704124e-02\n",
            "  2.60362224e-01 -1.34466175e-01 -1.86610410e-01 -1.38778022e-01\n",
            " -1.58360583e-01 -1.11022302e-16] \n",
            "\n",
            "\n",
            "Norm of A: 7.205438756371123\n",
            "Convergence:\n",
            " [-6.14226806e-02  2.40462806e-01 -2.95041547e-01 -3.97373199e-01\n",
            "  1.32061689e-01 -2.17791104e-01 -2.49579125e-01 -1.65728074e-01\n",
            "  1.44273860e-02 -5.55111512e-17] \n",
            "\n",
            "\n"
          ]
        }
      ]
    },
    {
      "cell_type": "markdown",
      "metadata": {
        "id": "y3PDxY8W1Gry"
      },
      "source": [
        "# III. Minimum residual scheme"
      ]
    },
    {
      "cell_type": "markdown",
      "metadata": {
        "id": "IbfUD6zy1Gry"
      },
      "source": [
        "### Task III.1\n",
        "\n",
        "Implement the $\\textit{minimum residual}$ scheme: an explicit non-stationary method, where at each step you select the iteration parameter $\\tau_n$ to minimize the residual $\\mathbf{r}_{n+1}$ given $\\mathbf{r}_n$. Test it on a random matrix, study the convergence to the solution, in terms of the norm of the residual and the deviation from the ground truth solution (which you can obtain using a direct method). Study how the iteration parameter $\\tau_n$ changes as iterations progress.\n",
        "\n",
        "(50% of the grade)"
      ]
    },
    {
      "cell_type": "code",
      "execution_count": null,
      "metadata": {
        "collapsed": true,
        "id": "60_IGETi1Gry"
      },
      "outputs": [],
      "source": [
        "def minimum_residual(A, b, max_iterations, tol):\n",
        "    print(\"Norm of A:\",np.linalg.norm(A))\n",
        "    n = A.shape[0]\n",
        "    x0 = np.ones(b.shape[0])\n",
        "    x = x0.copy()  # Initial solution guess\n",
        "    residual_norms = []  # Track norm of the residual at each iteration\n",
        "    deviation_norms = []  # Track deviation from ground truth solution at each iteration\n",
        "\n",
        "    for iteration in range(max_iterations):\n",
        "        residual = b - np.dot(A, x)  # Calculate the residual\n",
        "        residual_norm = np.linalg.norm(residual)  # Compute the norm of the residual\n",
        "        residual_norms.append(residual_norm)\n",
        "\n",
        "        if residual_norm < tol:\n",
        "            break  # Convergence criterion met, exit the loop\n",
        "\n",
        "        # Calculate the iteration parameter that minimizes the residual\n",
        "        alpha = np.dot(residual, np.dot(A, residual)) / np.dot(np.dot(A, residual), np.dot(A, residual))\n",
        "        \n",
        "        x = x + alpha * residual  # Update the solution estimate\n",
        "\n",
        "    return x"
      ]
    },
    {
      "cell_type": "code",
      "source": [
        "n = 10\n",
        "A = rndm.uniform(size=(n, n)) + np.diagflat([15]*n)\n",
        "b = rndm.uniform(size=n)\n",
        "max_iterations=1000\n",
        "tolerance=1e-14\n",
        "\n",
        "x = minimum_residual(A,b,max_iterations,tolerance)\n",
        "A@x-b"
      ],
      "metadata": {
        "colab": {
          "base_uri": "https://localhost:8080/"
        },
        "id": "T5pCjCgzYq90",
        "outputId": "a20a059d-a418-401c-9d52-b22b84472a78"
      },
      "execution_count": null,
      "outputs": [
        {
          "output_type": "stream",
          "name": "stdout",
          "text": [
            "Norm of A: 49.303030903788525\n"
          ]
        },
        {
          "output_type": "execute_result",
          "data": {
            "text/plain": [
              "array([ 5.55111512e-16,  7.77156117e-16,  3.33066907e-16, -4.44089210e-16,\n",
              "        2.22044605e-16,  7.77156117e-16,  3.74700271e-16,  5.55111512e-16,\n",
              "       -3.33066907e-16,  7.21644966e-16])"
            ]
          },
          "metadata": {},
          "execution_count": 39
        }
      ]
    },
    {
      "cell_type": "code",
      "source": [
        "n = 10\n",
        "max_iterations=100000\n",
        "tolerance=1e-14\n",
        "for i in range(10,0,-1):\n",
        "  A = rndm.uniform(size=(n, n)) + np.diagflat([i]*n)\n",
        "  b = rndm.uniform(size=n)\n",
        "  x = minimum_residual(A,b,max_iterations,tolerance)\n",
        "  print(\"Convergence:\\n\",A@x-b,\"\\n\\n\")"
      ],
      "metadata": {
        "colab": {
          "base_uri": "https://localhost:8080/"
        },
        "id": "zk5mpmw9bkDR",
        "outputId": "c67b9f43-5676-42fa-dbe7-ed96598db714"
      },
      "execution_count": null,
      "outputs": [
        {
          "output_type": "stream",
          "name": "stdout",
          "text": [
            "Norm of A: 34.05585368359852\n",
            "Convergence:\n",
            " [6.66133815e-16 3.33066907e-16 7.77156117e-16 7.21644966e-16\n",
            " 2.22044605e-16 4.99600361e-16 2.22044605e-16 2.22044605e-16\n",
            " 4.44089210e-16 2.77555756e-16] \n",
            "\n",
            "\n",
            "Norm of A: 30.33925946989076\n",
            "Convergence:\n",
            " [-4.44089210e-16 -1.38777878e-15  1.11022302e-15 -2.22044605e-16\n",
            " -2.02615702e-15 -4.44089210e-16 -1.44328993e-15  2.22044605e-16\n",
            "  1.11022302e-15 -1.44328993e-15] \n",
            "\n",
            "\n",
            "Norm of A: 27.391597169886182\n",
            "Convergence:\n",
            " [-3.33066907e-16 -9.43689571e-16 -3.33066907e-16 -1.16573418e-15\n",
            "  5.55111512e-16 -9.99200722e-16 -1.22124533e-15  4.16333634e-16\n",
            " -8.88178420e-16 -1.11022302e-15] \n",
            "\n",
            "\n",
            "Norm of A: 24.127574790990643\n",
            "Convergence:\n",
            " [-8.04911693e-16 -1.88737914e-15 -1.11022302e-16  2.22044605e-16\n",
            "  6.66133815e-16 -1.11022302e-16 -6.66133815e-16 -1.44328993e-15\n",
            " -6.66133815e-16 -1.88737914e-15] \n",
            "\n",
            "\n",
            "Norm of A: 21.30094562350186\n",
            "Convergence:\n",
            " [ 1.11022302e-15 -6.66133815e-16  3.38618023e-15  1.88737914e-15\n",
            " -3.33066907e-16  4.94049246e-15  3.38618023e-15 -6.66133815e-16\n",
            "  2.55351296e-15  2.23432384e-15] \n",
            "\n",
            "\n",
            "Norm of A: 17.75147691975345\n",
            "Convergence:\n",
            " [ 1.55431223e-15  8.88178420e-16 -3.88578059e-16 -4.44089210e-16\n",
            "  1.49880108e-15  0.00000000e+00 -2.77555756e-16 -6.10622664e-16\n",
            "  1.44328993e-15  1.72084569e-15] \n",
            "\n",
            "\n",
            "Norm of A: 15.494708719595517\n",
            "Convergence:\n",
            " [-1.49880108e-15 -8.88178420e-16  1.11022302e-15  1.44328993e-15\n",
            " -4.74620343e-15 -2.49800181e-15 -6.10622664e-15 -3.55271368e-15\n",
            "  0.00000000e+00 -1.77635684e-15] \n",
            "\n",
            "\n",
            "Norm of A: 11.868430936563096\n",
            "Convergence:\n",
            " [-2.10942375e-15 -1.60982339e-15 -4.44089210e-16 -9.43689571e-16\n",
            " -3.33066907e-16 -1.66533454e-16 -1.72084569e-15 -9.99200722e-16\n",
            " -1.38777878e-15 -2.22044605e-15] \n",
            "\n",
            "\n",
            "Norm of A: 9.685059734427929\n",
            "Convergence:\n",
            " [-3.88578059e-16 -1.27675648e-15 -4.44089210e-16 -1.16573418e-15\n",
            " -1.77635684e-15 -2.33146835e-15 -8.88178420e-16 -1.33226763e-15\n",
            " -1.66533454e-15  1.11022302e-16] \n",
            "\n",
            "\n",
            "Norm of A: 7.155232581072735\n",
            "Convergence:\n",
            " [ 6.10622664e-16  2.33146835e-15  1.33226763e-15  2.88657986e-15\n",
            "  6.02295991e-15 -1.33226763e-15  3.33066907e-16 -3.77475828e-15\n",
            " -8.88178420e-16  3.10862447e-15] \n",
            "\n",
            "\n"
          ]
        }
      ]
    }
  ],
  "metadata": {
    "kernelspec": {
      "display_name": "Python 3",
      "language": "python",
      "name": "python3"
    },
    "language_info": {
      "codemirror_mode": {
        "name": "ipython",
        "version": 3
      },
      "file_extension": ".py",
      "mimetype": "text/x-python",
      "name": "python",
      "nbconvert_exporter": "python",
      "pygments_lexer": "ipython3",
      "version": "3.5.2"
    },
    "colab": {
      "provenance": []
    }
  },
  "nbformat": 4,
  "nbformat_minor": 0
}